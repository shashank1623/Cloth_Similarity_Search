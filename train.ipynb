{
  "cells": [
    {
      "cell_type": "code",
      "execution_count": 2,
      "metadata": {
        "id": "CX_oqoac4abn"
      },
      "outputs": [],
      "source": [
        "import pandas as pd"
      ]
    },
    {
      "cell_type": "code",
      "execution_count": 4,
      "metadata": {
        "id": "a-vkqI7O4fnk"
      },
      "outputs": [],
      "source": [
        "df = pd.read_csv('Web_scrap/final_data.csv')"
      ]
    },
    {
      "cell_type": "code",
      "execution_count": 5,
      "metadata": {
        "colab": {
          "base_uri": "https://localhost:8080/",
          "height": 423
        },
        "id": "HHX4WUJm4tUy",
        "outputId": "e8b4da68-7b89-4cef-c28d-33bee6bfb877"
      },
      "outputs": [
        {
          "data": {
            "text/html": [
              "<div>\n",
              "<style scoped>\n",
              "    .dataframe tbody tr th:only-of-type {\n",
              "        vertical-align: middle;\n",
              "    }\n",
              "\n",
              "    .dataframe tbody tr th {\n",
              "        vertical-align: top;\n",
              "    }\n",
              "\n",
              "    .dataframe thead th {\n",
              "        text-align: right;\n",
              "    }\n",
              "</style>\n",
              "<table border=\"1\" class=\"dataframe\">\n",
              "  <thead>\n",
              "    <tr style=\"text-align: right;\">\n",
              "      <th></th>\n",
              "      <th>Discription</th>\n",
              "      <th>url</th>\n",
              "      <th>Vendor</th>\n",
              "    </tr>\n",
              "  </thead>\n",
              "  <tbody>\n",
              "    <tr>\n",
              "      <th>0</th>\n",
              "      <td>KINGDOM OF WHITE Replay Full Sleeves White Shi...</td>\n",
              "      <td>https://www.amazon.in/sspa/click?ie=UTF8&amp;spc=M...</td>\n",
              "      <td>Amazon</td>\n",
              "    </tr>\n",
              "    <tr>\n",
              "      <th>1</th>\n",
              "      <td>United Colors of Benetton Men Shirt</td>\n",
              "      <td>https://www.amazon.in/sspa/click?ie=UTF8&amp;spc=M...</td>\n",
              "      <td>Amazon</td>\n",
              "    </tr>\n",
              "    <tr>\n",
              "      <th>2</th>\n",
              "      <td>KINGDOM OF WHITE Cloudy Full Sleeves White Kur...</td>\n",
              "      <td>https://www.amazon.in/sspa/click?ie=UTF8&amp;spc=M...</td>\n",
              "      <td>Amazon</td>\n",
              "    </tr>\n",
              "    <tr>\n",
              "      <th>3</th>\n",
              "      <td>United Colors of Benetton Men Shirt</td>\n",
              "      <td>https://www.amazon.in/sspa/click?ie=UTF8&amp;spc=M...</td>\n",
              "      <td>Amazon</td>\n",
              "    </tr>\n",
              "    <tr>\n",
              "      <th>4</th>\n",
              "      <td>Dennis Lingo Men's Solid Slim Fit Cotton Casua...</td>\n",
              "      <td>https://www.amazon.in/Dennis-Lingo-Solid-Casua...</td>\n",
              "      <td>Amazon</td>\n",
              "    </tr>\n",
              "    <tr>\n",
              "      <th>...</th>\n",
              "      <td>...</td>\n",
              "      <td>...</td>\n",
              "      <td>...</td>\n",
              "    </tr>\n",
              "    <tr>\n",
              "      <th>1251</th>\n",
              "      <td>Multi-color High Neck Heart Print Top</td>\n",
              "      <td>https://www.nykaafashion.com/mixt-by-nykaa-fas...</td>\n",
              "      <td>NykaaFashion</td>\n",
              "    </tr>\n",
              "    <tr>\n",
              "      <th>1252</th>\n",
              "      <td>Women Self Design Regular Fit Top</td>\n",
              "      <td>https://www.nykaafashion.com/only-women-self-d...</td>\n",
              "      <td>NykaaFashion</td>\n",
              "    </tr>\n",
              "    <tr>\n",
              "      <th>1253</th>\n",
              "      <td>Lilac Crop Top</td>\n",
              "      <td>https://www.nykaafashion.com/i-saw-it-first-li...</td>\n",
              "      <td>NykaaFashion</td>\n",
              "    </tr>\n",
              "    <tr>\n",
              "      <th>1254</th>\n",
              "      <td>Blue Printed A-Line Top</td>\n",
              "      <td>https://www.nykaafashion.com/qomn-blue-printed...</td>\n",
              "      <td>NykaaFashion</td>\n",
              "    </tr>\n",
              "    <tr>\n",
              "      <th>1255</th>\n",
              "      <td>Peacock Cinched Shirt Jacket</td>\n",
              "      <td>https://www.nykaafashion.com/shaye-peacock-cin...</td>\n",
              "      <td>NykaaFashion</td>\n",
              "    </tr>\n",
              "  </tbody>\n",
              "</table>\n",
              "<p>1256 rows × 3 columns</p>\n",
              "</div>"
            ],
            "text/plain": [
              "                                            Discription  \\\n",
              "0     KINGDOM OF WHITE Replay Full Sleeves White Shi...   \n",
              "1                   United Colors of Benetton Men Shirt   \n",
              "2     KINGDOM OF WHITE Cloudy Full Sleeves White Kur...   \n",
              "3                   United Colors of Benetton Men Shirt   \n",
              "4     Dennis Lingo Men's Solid Slim Fit Cotton Casua...   \n",
              "...                                                 ...   \n",
              "1251              Multi-color High Neck Heart Print Top   \n",
              "1252                  Women Self Design Regular Fit Top   \n",
              "1253                                     Lilac Crop Top   \n",
              "1254                            Blue Printed A-Line Top   \n",
              "1255                       Peacock Cinched Shirt Jacket   \n",
              "\n",
              "                                                    url        Vendor  \n",
              "0     https://www.amazon.in/sspa/click?ie=UTF8&spc=M...        Amazon  \n",
              "1     https://www.amazon.in/sspa/click?ie=UTF8&spc=M...        Amazon  \n",
              "2     https://www.amazon.in/sspa/click?ie=UTF8&spc=M...        Amazon  \n",
              "3     https://www.amazon.in/sspa/click?ie=UTF8&spc=M...        Amazon  \n",
              "4     https://www.amazon.in/Dennis-Lingo-Solid-Casua...        Amazon  \n",
              "...                                                 ...           ...  \n",
              "1251  https://www.nykaafashion.com/mixt-by-nykaa-fas...  NykaaFashion  \n",
              "1252  https://www.nykaafashion.com/only-women-self-d...  NykaaFashion  \n",
              "1253  https://www.nykaafashion.com/i-saw-it-first-li...  NykaaFashion  \n",
              "1254  https://www.nykaafashion.com/qomn-blue-printed...  NykaaFashion  \n",
              "1255  https://www.nykaafashion.com/shaye-peacock-cin...  NykaaFashion  \n",
              "\n",
              "[1256 rows x 3 columns]"
            ]
          },
          "execution_count": 5,
          "metadata": {},
          "output_type": "execute_result"
        }
      ],
      "source": [
        "df"
      ]
    },
    {
      "cell_type": "code",
      "execution_count": 6,
      "metadata": {
        "id": "vtoCmVMJ4t4O"
      },
      "outputs": [],
      "source": [
        "import nltk\n",
        "from nltk.corpus import stopwords\n",
        "from nltk.stem import WordNetLemmatizer\n",
        "from nltk.tokenize import word_tokenize\n",
        "import re"
      ]
    },
    {
      "cell_type": "code",
      "execution_count": 7,
      "metadata": {
        "colab": {
          "base_uri": "https://localhost:8080/"
        },
        "id": "KkUIxXjf4xnY",
        "outputId": "700916e3-a667-447e-8753-7aa9d958c928"
      },
      "outputs": [
        {
          "ename": "KeyboardInterrupt",
          "evalue": "",
          "output_type": "error",
          "traceback": [
            "\u001b[0;31m---------------------------------------------------------------------------\u001b[0m",
            "\u001b[0;31mKeyboardInterrupt\u001b[0m                         Traceback (most recent call last)",
            "Cell \u001b[0;32mIn[7], line 2\u001b[0m\n\u001b[1;32m      1\u001b[0m \u001b[39m# Download NLTK resources\u001b[39;00m\n\u001b[0;32m----> 2\u001b[0m nltk\u001b[39m.\u001b[39;49mdownload(\u001b[39m'\u001b[39;49m\u001b[39mpunkt\u001b[39;49m\u001b[39m'\u001b[39;49m)\n\u001b[1;32m      3\u001b[0m nltk\u001b[39m.\u001b[39mdownload(\u001b[39m'\u001b[39m\u001b[39mwordnet\u001b[39m\u001b[39m'\u001b[39m)\n\u001b[1;32m      4\u001b[0m nltk\u001b[39m.\u001b[39mdownload(\u001b[39m'\u001b[39m\u001b[39mstopwords\u001b[39m\u001b[39m'\u001b[39m)\n",
            "File \u001b[0;32m~/.local/lib/python3.10/site-packages/nltk/downloader.py:777\u001b[0m, in \u001b[0;36mDownloader.download\u001b[0;34m(self, info_or_id, download_dir, quiet, force, prefix, halt_on_error, raise_on_error, print_error_to)\u001b[0m\n\u001b[1;32m    768\u001b[0m \u001b[39mdef\u001b[39;00m \u001b[39mshow\u001b[39m(s, prefix2\u001b[39m=\u001b[39m\u001b[39m\"\u001b[39m\u001b[39m\"\u001b[39m):\n\u001b[1;32m    769\u001b[0m     print_to(\n\u001b[1;32m    770\u001b[0m         textwrap\u001b[39m.\u001b[39mfill(\n\u001b[1;32m    771\u001b[0m             s,\n\u001b[0;32m   (...)\u001b[0m\n\u001b[1;32m    774\u001b[0m         )\n\u001b[1;32m    775\u001b[0m     )\n\u001b[0;32m--> 777\u001b[0m \u001b[39mfor\u001b[39;00m msg \u001b[39min\u001b[39;00m \u001b[39mself\u001b[39m\u001b[39m.\u001b[39mincr_download(info_or_id, download_dir, force):\n\u001b[1;32m    778\u001b[0m     \u001b[39m# Error messages\u001b[39;00m\n\u001b[1;32m    779\u001b[0m     \u001b[39mif\u001b[39;00m \u001b[39misinstance\u001b[39m(msg, ErrorMessage):\n\u001b[1;32m    780\u001b[0m         show(msg\u001b[39m.\u001b[39mmessage)\n",
            "File \u001b[0;32m~/.local/lib/python3.10/site-packages/nltk/downloader.py:629\u001b[0m, in \u001b[0;36mDownloader.incr_download\u001b[0;34m(self, info_or_id, download_dir, force)\u001b[0m\n\u001b[1;32m    627\u001b[0m \u001b[39m# Look up the requested collection or package.\u001b[39;00m\n\u001b[1;32m    628\u001b[0m \u001b[39mtry\u001b[39;00m:\n\u001b[0;32m--> 629\u001b[0m     info \u001b[39m=\u001b[39m \u001b[39mself\u001b[39;49m\u001b[39m.\u001b[39;49m_info_or_id(info_or_id)\n\u001b[1;32m    630\u001b[0m \u001b[39mexcept\u001b[39;00m (\u001b[39mOSError\u001b[39;00m, \u001b[39mValueError\u001b[39;00m) \u001b[39mas\u001b[39;00m e:\n\u001b[1;32m    631\u001b[0m     \u001b[39myield\u001b[39;00m ErrorMessage(\u001b[39mNone\u001b[39;00m, \u001b[39mf\u001b[39m\u001b[39m\"\u001b[39m\u001b[39mError loading \u001b[39m\u001b[39m{\u001b[39;00minfo_or_id\u001b[39m}\u001b[39;00m\u001b[39m: \u001b[39m\u001b[39m{\u001b[39;00me\u001b[39m}\u001b[39;00m\u001b[39m\"\u001b[39m)\n",
            "File \u001b[0;32m~/.local/lib/python3.10/site-packages/nltk/downloader.py:603\u001b[0m, in \u001b[0;36mDownloader._info_or_id\u001b[0;34m(self, info_or_id)\u001b[0m\n\u001b[1;32m    601\u001b[0m \u001b[39mdef\u001b[39;00m \u001b[39m_info_or_id\u001b[39m(\u001b[39mself\u001b[39m, info_or_id):\n\u001b[1;32m    602\u001b[0m     \u001b[39mif\u001b[39;00m \u001b[39misinstance\u001b[39m(info_or_id, \u001b[39mstr\u001b[39m):\n\u001b[0;32m--> 603\u001b[0m         \u001b[39mreturn\u001b[39;00m \u001b[39mself\u001b[39;49m\u001b[39m.\u001b[39;49minfo(info_or_id)\n\u001b[1;32m    604\u001b[0m     \u001b[39melse\u001b[39;00m:\n\u001b[1;32m    605\u001b[0m         \u001b[39mreturn\u001b[39;00m info_or_id\n",
            "File \u001b[0;32m~/.local/lib/python3.10/site-packages/nltk/downloader.py:1009\u001b[0m, in \u001b[0;36mDownloader.info\u001b[0;34m(self, id)\u001b[0m\n\u001b[1;32m   1006\u001b[0m \u001b[39mdef\u001b[39;00m \u001b[39minfo\u001b[39m(\u001b[39mself\u001b[39m, \u001b[39mid\u001b[39m):\n\u001b[1;32m   1007\u001b[0m \u001b[39m    \u001b[39m\u001b[39m\"\"\"Return the ``Package`` or ``Collection`` record for the\u001b[39;00m\n\u001b[1;32m   1008\u001b[0m \u001b[39m    given item.\"\"\"\u001b[39;00m\n\u001b[0;32m-> 1009\u001b[0m     \u001b[39mself\u001b[39;49m\u001b[39m.\u001b[39;49m_update_index()\n\u001b[1;32m   1010\u001b[0m     \u001b[39mif\u001b[39;00m \u001b[39mid\u001b[39m \u001b[39min\u001b[39;00m \u001b[39mself\u001b[39m\u001b[39m.\u001b[39m_packages:\n\u001b[1;32m   1011\u001b[0m         \u001b[39mreturn\u001b[39;00m \u001b[39mself\u001b[39m\u001b[39m.\u001b[39m_packages[\u001b[39mid\u001b[39m]\n",
            "File \u001b[0;32m~/.local/lib/python3.10/site-packages/nltk/downloader.py:952\u001b[0m, in \u001b[0;36mDownloader._update_index\u001b[0;34m(self, url)\u001b[0m\n\u001b[1;32m    948\u001b[0m \u001b[39mself\u001b[39m\u001b[39m.\u001b[39m_url \u001b[39m=\u001b[39m url \u001b[39mor\u001b[39;00m \u001b[39mself\u001b[39m\u001b[39m.\u001b[39m_url\n\u001b[1;32m    950\u001b[0m \u001b[39m# Download the index file.\u001b[39;00m\n\u001b[1;32m    951\u001b[0m \u001b[39mself\u001b[39m\u001b[39m.\u001b[39m_index \u001b[39m=\u001b[39m nltk\u001b[39m.\u001b[39minternals\u001b[39m.\u001b[39mElementWrapper(\n\u001b[0;32m--> 952\u001b[0m     ElementTree\u001b[39m.\u001b[39mparse(urlopen(\u001b[39mself\u001b[39;49m\u001b[39m.\u001b[39;49m_url))\u001b[39m.\u001b[39mgetroot()\n\u001b[1;32m    953\u001b[0m )\n\u001b[1;32m    954\u001b[0m \u001b[39mself\u001b[39m\u001b[39m.\u001b[39m_index_timestamp \u001b[39m=\u001b[39m time\u001b[39m.\u001b[39mtime()\n\u001b[1;32m    956\u001b[0m \u001b[39m# Build a dictionary of packages.\u001b[39;00m\n",
            "File \u001b[0;32m/usr/lib/python3.10/urllib/request.py:216\u001b[0m, in \u001b[0;36murlopen\u001b[0;34m(url, data, timeout, cafile, capath, cadefault, context)\u001b[0m\n\u001b[1;32m    214\u001b[0m \u001b[39melse\u001b[39;00m:\n\u001b[1;32m    215\u001b[0m     opener \u001b[39m=\u001b[39m _opener\n\u001b[0;32m--> 216\u001b[0m \u001b[39mreturn\u001b[39;00m opener\u001b[39m.\u001b[39;49mopen(url, data, timeout)\n",
            "File \u001b[0;32m/usr/lib/python3.10/urllib/request.py:519\u001b[0m, in \u001b[0;36mOpenerDirector.open\u001b[0;34m(self, fullurl, data, timeout)\u001b[0m\n\u001b[1;32m    516\u001b[0m     req \u001b[39m=\u001b[39m meth(req)\n\u001b[1;32m    518\u001b[0m sys\u001b[39m.\u001b[39maudit(\u001b[39m'\u001b[39m\u001b[39murllib.Request\u001b[39m\u001b[39m'\u001b[39m, req\u001b[39m.\u001b[39mfull_url, req\u001b[39m.\u001b[39mdata, req\u001b[39m.\u001b[39mheaders, req\u001b[39m.\u001b[39mget_method())\n\u001b[0;32m--> 519\u001b[0m response \u001b[39m=\u001b[39m \u001b[39mself\u001b[39;49m\u001b[39m.\u001b[39;49m_open(req, data)\n\u001b[1;32m    521\u001b[0m \u001b[39m# post-process response\u001b[39;00m\n\u001b[1;32m    522\u001b[0m meth_name \u001b[39m=\u001b[39m protocol\u001b[39m+\u001b[39m\u001b[39m\"\u001b[39m\u001b[39m_response\u001b[39m\u001b[39m\"\u001b[39m\n",
            "File \u001b[0;32m/usr/lib/python3.10/urllib/request.py:536\u001b[0m, in \u001b[0;36mOpenerDirector._open\u001b[0;34m(self, req, data)\u001b[0m\n\u001b[1;32m    533\u001b[0m     \u001b[39mreturn\u001b[39;00m result\n\u001b[1;32m    535\u001b[0m protocol \u001b[39m=\u001b[39m req\u001b[39m.\u001b[39mtype\n\u001b[0;32m--> 536\u001b[0m result \u001b[39m=\u001b[39m \u001b[39mself\u001b[39;49m\u001b[39m.\u001b[39;49m_call_chain(\u001b[39mself\u001b[39;49m\u001b[39m.\u001b[39;49mhandle_open, protocol, protocol \u001b[39m+\u001b[39;49m\n\u001b[1;32m    537\u001b[0m                           \u001b[39m'\u001b[39;49m\u001b[39m_open\u001b[39;49m\u001b[39m'\u001b[39;49m, req)\n\u001b[1;32m    538\u001b[0m \u001b[39mif\u001b[39;00m result:\n\u001b[1;32m    539\u001b[0m     \u001b[39mreturn\u001b[39;00m result\n",
            "File \u001b[0;32m/usr/lib/python3.10/urllib/request.py:496\u001b[0m, in \u001b[0;36mOpenerDirector._call_chain\u001b[0;34m(self, chain, kind, meth_name, *args)\u001b[0m\n\u001b[1;32m    494\u001b[0m \u001b[39mfor\u001b[39;00m handler \u001b[39min\u001b[39;00m handlers:\n\u001b[1;32m    495\u001b[0m     func \u001b[39m=\u001b[39m \u001b[39mgetattr\u001b[39m(handler, meth_name)\n\u001b[0;32m--> 496\u001b[0m     result \u001b[39m=\u001b[39m func(\u001b[39m*\u001b[39;49margs)\n\u001b[1;32m    497\u001b[0m     \u001b[39mif\u001b[39;00m result \u001b[39mis\u001b[39;00m \u001b[39mnot\u001b[39;00m \u001b[39mNone\u001b[39;00m:\n\u001b[1;32m    498\u001b[0m         \u001b[39mreturn\u001b[39;00m result\n",
            "File \u001b[0;32m/usr/lib/python3.10/urllib/request.py:1391\u001b[0m, in \u001b[0;36mHTTPSHandler.https_open\u001b[0;34m(self, req)\u001b[0m\n\u001b[1;32m   1390\u001b[0m \u001b[39mdef\u001b[39;00m \u001b[39mhttps_open\u001b[39m(\u001b[39mself\u001b[39m, req):\n\u001b[0;32m-> 1391\u001b[0m     \u001b[39mreturn\u001b[39;00m \u001b[39mself\u001b[39;49m\u001b[39m.\u001b[39;49mdo_open(http\u001b[39m.\u001b[39;49mclient\u001b[39m.\u001b[39;49mHTTPSConnection, req,\n\u001b[1;32m   1392\u001b[0m         context\u001b[39m=\u001b[39;49m\u001b[39mself\u001b[39;49m\u001b[39m.\u001b[39;49m_context, check_hostname\u001b[39m=\u001b[39;49m\u001b[39mself\u001b[39;49m\u001b[39m.\u001b[39;49m_check_hostname)\n",
            "File \u001b[0;32m/usr/lib/python3.10/urllib/request.py:1348\u001b[0m, in \u001b[0;36mAbstractHTTPHandler.do_open\u001b[0;34m(self, http_class, req, **http_conn_args)\u001b[0m\n\u001b[1;32m   1346\u001b[0m \u001b[39mtry\u001b[39;00m:\n\u001b[1;32m   1347\u001b[0m     \u001b[39mtry\u001b[39;00m:\n\u001b[0;32m-> 1348\u001b[0m         h\u001b[39m.\u001b[39;49mrequest(req\u001b[39m.\u001b[39;49mget_method(), req\u001b[39m.\u001b[39;49mselector, req\u001b[39m.\u001b[39;49mdata, headers,\n\u001b[1;32m   1349\u001b[0m                   encode_chunked\u001b[39m=\u001b[39;49mreq\u001b[39m.\u001b[39;49mhas_header(\u001b[39m'\u001b[39;49m\u001b[39mTransfer-encoding\u001b[39;49m\u001b[39m'\u001b[39;49m))\n\u001b[1;32m   1350\u001b[0m     \u001b[39mexcept\u001b[39;00m \u001b[39mOSError\u001b[39;00m \u001b[39mas\u001b[39;00m err: \u001b[39m# timeout error\u001b[39;00m\n\u001b[1;32m   1351\u001b[0m         \u001b[39mraise\u001b[39;00m URLError(err)\n",
            "File \u001b[0;32m/usr/lib/python3.10/http/client.py:1282\u001b[0m, in \u001b[0;36mHTTPConnection.request\u001b[0;34m(self, method, url, body, headers, encode_chunked)\u001b[0m\n\u001b[1;32m   1279\u001b[0m \u001b[39mdef\u001b[39;00m \u001b[39mrequest\u001b[39m(\u001b[39mself\u001b[39m, method, url, body\u001b[39m=\u001b[39m\u001b[39mNone\u001b[39;00m, headers\u001b[39m=\u001b[39m{}, \u001b[39m*\u001b[39m,\n\u001b[1;32m   1280\u001b[0m             encode_chunked\u001b[39m=\u001b[39m\u001b[39mFalse\u001b[39;00m):\n\u001b[1;32m   1281\u001b[0m \u001b[39m    \u001b[39m\u001b[39m\"\"\"Send a complete request to the server.\"\"\"\u001b[39;00m\n\u001b[0;32m-> 1282\u001b[0m     \u001b[39mself\u001b[39;49m\u001b[39m.\u001b[39;49m_send_request(method, url, body, headers, encode_chunked)\n",
            "File \u001b[0;32m/usr/lib/python3.10/http/client.py:1328\u001b[0m, in \u001b[0;36mHTTPConnection._send_request\u001b[0;34m(self, method, url, body, headers, encode_chunked)\u001b[0m\n\u001b[1;32m   1324\u001b[0m \u001b[39mif\u001b[39;00m \u001b[39misinstance\u001b[39m(body, \u001b[39mstr\u001b[39m):\n\u001b[1;32m   1325\u001b[0m     \u001b[39m# RFC 2616 Section 3.7.1 says that text default has a\u001b[39;00m\n\u001b[1;32m   1326\u001b[0m     \u001b[39m# default charset of iso-8859-1.\u001b[39;00m\n\u001b[1;32m   1327\u001b[0m     body \u001b[39m=\u001b[39m _encode(body, \u001b[39m'\u001b[39m\u001b[39mbody\u001b[39m\u001b[39m'\u001b[39m)\n\u001b[0;32m-> 1328\u001b[0m \u001b[39mself\u001b[39;49m\u001b[39m.\u001b[39;49mendheaders(body, encode_chunked\u001b[39m=\u001b[39;49mencode_chunked)\n",
            "File \u001b[0;32m/usr/lib/python3.10/http/client.py:1277\u001b[0m, in \u001b[0;36mHTTPConnection.endheaders\u001b[0;34m(self, message_body, encode_chunked)\u001b[0m\n\u001b[1;32m   1275\u001b[0m \u001b[39melse\u001b[39;00m:\n\u001b[1;32m   1276\u001b[0m     \u001b[39mraise\u001b[39;00m CannotSendHeader()\n\u001b[0;32m-> 1277\u001b[0m \u001b[39mself\u001b[39;49m\u001b[39m.\u001b[39;49m_send_output(message_body, encode_chunked\u001b[39m=\u001b[39;49mencode_chunked)\n",
            "File \u001b[0;32m/usr/lib/python3.10/http/client.py:1037\u001b[0m, in \u001b[0;36mHTTPConnection._send_output\u001b[0;34m(self, message_body, encode_chunked)\u001b[0m\n\u001b[1;32m   1035\u001b[0m msg \u001b[39m=\u001b[39m \u001b[39mb\u001b[39m\u001b[39m\"\u001b[39m\u001b[39m\\r\u001b[39;00m\u001b[39m\\n\u001b[39;00m\u001b[39m\"\u001b[39m\u001b[39m.\u001b[39mjoin(\u001b[39mself\u001b[39m\u001b[39m.\u001b[39m_buffer)\n\u001b[1;32m   1036\u001b[0m \u001b[39mdel\u001b[39;00m \u001b[39mself\u001b[39m\u001b[39m.\u001b[39m_buffer[:]\n\u001b[0;32m-> 1037\u001b[0m \u001b[39mself\u001b[39;49m\u001b[39m.\u001b[39;49msend(msg)\n\u001b[1;32m   1039\u001b[0m \u001b[39mif\u001b[39;00m message_body \u001b[39mis\u001b[39;00m \u001b[39mnot\u001b[39;00m \u001b[39mNone\u001b[39;00m:\n\u001b[1;32m   1040\u001b[0m \n\u001b[1;32m   1041\u001b[0m     \u001b[39m# create a consistent interface to message_body\u001b[39;00m\n\u001b[1;32m   1042\u001b[0m     \u001b[39mif\u001b[39;00m \u001b[39mhasattr\u001b[39m(message_body, \u001b[39m'\u001b[39m\u001b[39mread\u001b[39m\u001b[39m'\u001b[39m):\n\u001b[1;32m   1043\u001b[0m         \u001b[39m# Let file-like take precedence over byte-like.  This\u001b[39;00m\n\u001b[1;32m   1044\u001b[0m         \u001b[39m# is needed to allow the current position of mmap'ed\u001b[39;00m\n\u001b[1;32m   1045\u001b[0m         \u001b[39m# files to be taken into account.\u001b[39;00m\n",
            "File \u001b[0;32m/usr/lib/python3.10/http/client.py:975\u001b[0m, in \u001b[0;36mHTTPConnection.send\u001b[0;34m(self, data)\u001b[0m\n\u001b[1;32m    973\u001b[0m \u001b[39mif\u001b[39;00m \u001b[39mself\u001b[39m\u001b[39m.\u001b[39msock \u001b[39mis\u001b[39;00m \u001b[39mNone\u001b[39;00m:\n\u001b[1;32m    974\u001b[0m     \u001b[39mif\u001b[39;00m \u001b[39mself\u001b[39m\u001b[39m.\u001b[39mauto_open:\n\u001b[0;32m--> 975\u001b[0m         \u001b[39mself\u001b[39;49m\u001b[39m.\u001b[39;49mconnect()\n\u001b[1;32m    976\u001b[0m     \u001b[39melse\u001b[39;00m:\n\u001b[1;32m    977\u001b[0m         \u001b[39mraise\u001b[39;00m NotConnected()\n",
            "File \u001b[0;32m/usr/lib/python3.10/http/client.py:1447\u001b[0m, in \u001b[0;36mHTTPSConnection.connect\u001b[0;34m(self)\u001b[0m\n\u001b[1;32m   1444\u001b[0m \u001b[39mdef\u001b[39;00m \u001b[39mconnect\u001b[39m(\u001b[39mself\u001b[39m):\n\u001b[1;32m   1445\u001b[0m     \u001b[39m\"\u001b[39m\u001b[39mConnect to a host on a given (SSL) port.\u001b[39m\u001b[39m\"\u001b[39m\n\u001b[0;32m-> 1447\u001b[0m     \u001b[39msuper\u001b[39;49m()\u001b[39m.\u001b[39;49mconnect()\n\u001b[1;32m   1449\u001b[0m     \u001b[39mif\u001b[39;00m \u001b[39mself\u001b[39m\u001b[39m.\u001b[39m_tunnel_host:\n\u001b[1;32m   1450\u001b[0m         server_hostname \u001b[39m=\u001b[39m \u001b[39mself\u001b[39m\u001b[39m.\u001b[39m_tunnel_host\n",
            "File \u001b[0;32m/usr/lib/python3.10/http/client.py:941\u001b[0m, in \u001b[0;36mHTTPConnection.connect\u001b[0;34m(self)\u001b[0m\n\u001b[1;32m    939\u001b[0m \u001b[39m\u001b[39m\u001b[39m\"\"\"Connect to the host and port specified in __init__.\"\"\"\u001b[39;00m\n\u001b[1;32m    940\u001b[0m sys\u001b[39m.\u001b[39maudit(\u001b[39m\"\u001b[39m\u001b[39mhttp.client.connect\u001b[39m\u001b[39m\"\u001b[39m, \u001b[39mself\u001b[39m, \u001b[39mself\u001b[39m\u001b[39m.\u001b[39mhost, \u001b[39mself\u001b[39m\u001b[39m.\u001b[39mport)\n\u001b[0;32m--> 941\u001b[0m \u001b[39mself\u001b[39m\u001b[39m.\u001b[39msock \u001b[39m=\u001b[39m \u001b[39mself\u001b[39;49m\u001b[39m.\u001b[39;49m_create_connection(\n\u001b[1;32m    942\u001b[0m     (\u001b[39mself\u001b[39;49m\u001b[39m.\u001b[39;49mhost,\u001b[39mself\u001b[39;49m\u001b[39m.\u001b[39;49mport), \u001b[39mself\u001b[39;49m\u001b[39m.\u001b[39;49mtimeout, \u001b[39mself\u001b[39;49m\u001b[39m.\u001b[39;49msource_address)\n\u001b[1;32m    943\u001b[0m \u001b[39m# Might fail in OSs that don't implement TCP_NODELAY\u001b[39;00m\n\u001b[1;32m    944\u001b[0m \u001b[39mtry\u001b[39;00m:\n",
            "File \u001b[0;32m/usr/lib/python3.10/socket.py:833\u001b[0m, in \u001b[0;36mcreate_connection\u001b[0;34m(address, timeout, source_address)\u001b[0m\n\u001b[1;32m    831\u001b[0m \u001b[39mif\u001b[39;00m source_address:\n\u001b[1;32m    832\u001b[0m     sock\u001b[39m.\u001b[39mbind(source_address)\n\u001b[0;32m--> 833\u001b[0m sock\u001b[39m.\u001b[39;49mconnect(sa)\n\u001b[1;32m    834\u001b[0m \u001b[39m# Break explicitly a reference cycle\u001b[39;00m\n\u001b[1;32m    835\u001b[0m err \u001b[39m=\u001b[39m \u001b[39mNone\u001b[39;00m\n",
            "\u001b[0;31mKeyboardInterrupt\u001b[0m: "
          ]
        }
      ],
      "source": [
        "# Download NLTK resources\n",
        "nltk.download('punkt')\n",
        "nltk.download('wordnet')\n",
        "nltk.download('stopwords')"
      ]
    },
    {
      "cell_type": "code",
      "execution_count": 6,
      "metadata": {
        "id": "muPYhdl240Co"
      },
      "outputs": [],
      "source": [
        "# Define stopwords\n",
        "stop_words = set(stopwords.words('english'))\n",
        "\n",
        "# Initialize lemmatizer\n",
        "lemmatizer = WordNetLemmatizer()"
      ]
    },
    {
      "cell_type": "code",
      "execution_count": 7,
      "metadata": {
        "id": "5-ImljzY44rA"
      },
      "outputs": [],
      "source": [
        "# Function to preprocess text\n",
        "def preprocess_text(text):\n",
        "    # Remove special characters and digits\n",
        "    text = re.sub(r'[^a-zA-Z]', ' ', text)\n",
        "    \n",
        "    # Convert text to lowercase\n",
        "    text = text.lower()\n",
        "    \n",
        "    # Tokenize text\n",
        "    tokens = word_tokenize(text)\n",
        "    \n",
        "    # Remove stopwords and perform lemmatization\n",
        "    cleaned_tokens = [lemmatizer.lemmatize(token) for token in tokens if token not in stop_words]\n",
        "    \n",
        "    # Join tokens back into a single string\n",
        "    cleaned_text = ' '.join(cleaned_tokens)\n",
        "    \n",
        "    return cleaned_text"
      ]
    },
    {
      "cell_type": "code",
      "execution_count": 8,
      "metadata": {
        "id": "4Rrx73Y14-dF"
      },
      "outputs": [],
      "source": [
        "# Apply preprocessing to 'description' column\n",
        "df['cleaned_description'] = df['Discription'].apply(preprocess_text)\n"
      ]
    },
    {
      "cell_type": "code",
      "execution_count": 9,
      "metadata": {
        "id": "bRDOLcGq5MQE"
      },
      "outputs": [],
      "source": [
        "\n",
        "# Save preprocessed data to a new CSV file\n",
        "df.to_csv('/content/preprocessed_data.csv', index=False)"
      ]
    },
    {
      "cell_type": "code",
      "execution_count": 10,
      "metadata": {
        "colab": {
          "base_uri": "https://localhost:8080/",
          "height": 423
        },
        "id": "l7olhsLt5PGc",
        "outputId": "6319383f-070d-47b0-db67-b461a2693178"
      },
      "outputs": [
        {
          "data": {
            "text/html": [
              "\n",
              "  <div id=\"df-9e9ed202-25f5-4c9f-beb1-4b26b7cc1211\">\n",
              "    <div class=\"colab-df-container\">\n",
              "      <div>\n",
              "<style scoped>\n",
              "    .dataframe tbody tr th:only-of-type {\n",
              "        vertical-align: middle;\n",
              "    }\n",
              "\n",
              "    .dataframe tbody tr th {\n",
              "        vertical-align: top;\n",
              "    }\n",
              "\n",
              "    .dataframe thead th {\n",
              "        text-align: right;\n",
              "    }\n",
              "</style>\n",
              "<table border=\"1\" class=\"dataframe\">\n",
              "  <thead>\n",
              "    <tr style=\"text-align: right;\">\n",
              "      <th></th>\n",
              "      <th>Discription</th>\n",
              "      <th>url</th>\n",
              "      <th>Vendor</th>\n",
              "      <th>cleaned_description</th>\n",
              "    </tr>\n",
              "  </thead>\n",
              "  <tbody>\n",
              "    <tr>\n",
              "      <th>0</th>\n",
              "      <td>KINGDOM OF WHITE Replay Full Sleeves White Shi...</td>\n",
              "      <td>https://www.amazon.in/sspa/click?ie=UTF8&amp;spc=M...</td>\n",
              "      <td>Amazon</td>\n",
              "      <td>kingdom white replay full sleeve white shirt r...</td>\n",
              "    </tr>\n",
              "    <tr>\n",
              "      <th>1</th>\n",
              "      <td>United Colors of Benetton Men Shirt</td>\n",
              "      <td>https://www.amazon.in/sspa/click?ie=UTF8&amp;spc=M...</td>\n",
              "      <td>Amazon</td>\n",
              "      <td>united color benetton men shirt</td>\n",
              "    </tr>\n",
              "    <tr>\n",
              "      <th>2</th>\n",
              "      <td>KINGDOM OF WHITE Cloudy Full Sleeves White Kur...</td>\n",
              "      <td>https://www.amazon.in/sspa/click?ie=UTF8&amp;spc=M...</td>\n",
              "      <td>Amazon</td>\n",
              "      <td>kingdom white cloudy full sleeve white kurta w...</td>\n",
              "    </tr>\n",
              "    <tr>\n",
              "      <th>3</th>\n",
              "      <td>United Colors of Benetton Men Shirt</td>\n",
              "      <td>https://www.amazon.in/sspa/click?ie=UTF8&amp;spc=M...</td>\n",
              "      <td>Amazon</td>\n",
              "      <td>united color benetton men shirt</td>\n",
              "    </tr>\n",
              "    <tr>\n",
              "      <th>4</th>\n",
              "      <td>Dennis Lingo Men's Solid Slim Fit Cotton Casua...</td>\n",
              "      <td>https://www.amazon.in/Dennis-Lingo-Solid-Casua...</td>\n",
              "      <td>Amazon</td>\n",
              "      <td>dennis lingo men solid slim fit cotton casual ...</td>\n",
              "    </tr>\n",
              "    <tr>\n",
              "      <th>...</th>\n",
              "      <td>...</td>\n",
              "      <td>...</td>\n",
              "      <td>...</td>\n",
              "      <td>...</td>\n",
              "    </tr>\n",
              "    <tr>\n",
              "      <th>1251</th>\n",
              "      <td>Multi-color High Neck Heart Print Top</td>\n",
              "      <td>https://www.nykaafashion.com/mixt-by-nykaa-fas...</td>\n",
              "      <td>NykaaFashion</td>\n",
              "      <td>multi color high neck heart print top</td>\n",
              "    </tr>\n",
              "    <tr>\n",
              "      <th>1252</th>\n",
              "      <td>Women Self Design Regular Fit Top</td>\n",
              "      <td>https://www.nykaafashion.com/only-women-self-d...</td>\n",
              "      <td>NykaaFashion</td>\n",
              "      <td>woman self design regular fit top</td>\n",
              "    </tr>\n",
              "    <tr>\n",
              "      <th>1253</th>\n",
              "      <td>Lilac Crop Top</td>\n",
              "      <td>https://www.nykaafashion.com/i-saw-it-first-li...</td>\n",
              "      <td>NykaaFashion</td>\n",
              "      <td>lilac crop top</td>\n",
              "    </tr>\n",
              "    <tr>\n",
              "      <th>1254</th>\n",
              "      <td>Blue Printed A-Line Top</td>\n",
              "      <td>https://www.nykaafashion.com/qomn-blue-printed...</td>\n",
              "      <td>NykaaFashion</td>\n",
              "      <td>blue printed line top</td>\n",
              "    </tr>\n",
              "    <tr>\n",
              "      <th>1255</th>\n",
              "      <td>Peacock Cinched Shirt Jacket</td>\n",
              "      <td>https://www.nykaafashion.com/shaye-peacock-cin...</td>\n",
              "      <td>NykaaFashion</td>\n",
              "      <td>peacock cinched shirt jacket</td>\n",
              "    </tr>\n",
              "  </tbody>\n",
              "</table>\n",
              "<p>1256 rows × 4 columns</p>\n",
              "</div>\n",
              "      <button class=\"colab-df-convert\" onclick=\"convertToInteractive('df-9e9ed202-25f5-4c9f-beb1-4b26b7cc1211')\"\n",
              "              title=\"Convert this dataframe to an interactive table.\"\n",
              "              style=\"display:none;\">\n",
              "        \n",
              "  <svg xmlns=\"http://www.w3.org/2000/svg\" height=\"24px\"viewBox=\"0 0 24 24\"\n",
              "       width=\"24px\">\n",
              "    <path d=\"M0 0h24v24H0V0z\" fill=\"none\"/>\n",
              "    <path d=\"M18.56 5.44l.94 2.06.94-2.06 2.06-.94-2.06-.94-.94-2.06-.94 2.06-2.06.94zm-11 1L8.5 8.5l.94-2.06 2.06-.94-2.06-.94L8.5 2.5l-.94 2.06-2.06.94zm10 10l.94 2.06.94-2.06 2.06-.94-2.06-.94-.94-2.06-.94 2.06-2.06.94z\"/><path d=\"M17.41 7.96l-1.37-1.37c-.4-.4-.92-.59-1.43-.59-.52 0-1.04.2-1.43.59L10.3 9.45l-7.72 7.72c-.78.78-.78 2.05 0 2.83L4 21.41c.39.39.9.59 1.41.59.51 0 1.02-.2 1.41-.59l7.78-7.78 2.81-2.81c.8-.78.8-2.07 0-2.86zM5.41 20L4 18.59l7.72-7.72 1.47 1.35L5.41 20z\"/>\n",
              "  </svg>\n",
              "      </button>\n",
              "      \n",
              "  <style>\n",
              "    .colab-df-container {\n",
              "      display:flex;\n",
              "      flex-wrap:wrap;\n",
              "      gap: 12px;\n",
              "    }\n",
              "\n",
              "    .colab-df-convert {\n",
              "      background-color: #E8F0FE;\n",
              "      border: none;\n",
              "      border-radius: 50%;\n",
              "      cursor: pointer;\n",
              "      display: none;\n",
              "      fill: #1967D2;\n",
              "      height: 32px;\n",
              "      padding: 0 0 0 0;\n",
              "      width: 32px;\n",
              "    }\n",
              "\n",
              "    .colab-df-convert:hover {\n",
              "      background-color: #E2EBFA;\n",
              "      box-shadow: 0px 1px 2px rgba(60, 64, 67, 0.3), 0px 1px 3px 1px rgba(60, 64, 67, 0.15);\n",
              "      fill: #174EA6;\n",
              "    }\n",
              "\n",
              "    [theme=dark] .colab-df-convert {\n",
              "      background-color: #3B4455;\n",
              "      fill: #D2E3FC;\n",
              "    }\n",
              "\n",
              "    [theme=dark] .colab-df-convert:hover {\n",
              "      background-color: #434B5C;\n",
              "      box-shadow: 0px 1px 3px 1px rgba(0, 0, 0, 0.15);\n",
              "      filter: drop-shadow(0px 1px 2px rgba(0, 0, 0, 0.3));\n",
              "      fill: #FFFFFF;\n",
              "    }\n",
              "  </style>\n",
              "\n",
              "      <script>\n",
              "        const buttonEl =\n",
              "          document.querySelector('#df-9e9ed202-25f5-4c9f-beb1-4b26b7cc1211 button.colab-df-convert');\n",
              "        buttonEl.style.display =\n",
              "          google.colab.kernel.accessAllowed ? 'block' : 'none';\n",
              "\n",
              "        async function convertToInteractive(key) {\n",
              "          const element = document.querySelector('#df-9e9ed202-25f5-4c9f-beb1-4b26b7cc1211');\n",
              "          const dataTable =\n",
              "            await google.colab.kernel.invokeFunction('convertToInteractive',\n",
              "                                                     [key], {});\n",
              "          if (!dataTable) return;\n",
              "\n",
              "          const docLinkHtml = 'Like what you see? Visit the ' +\n",
              "            '<a target=\"_blank\" href=https://colab.research.google.com/notebooks/data_table.ipynb>data table notebook</a>'\n",
              "            + ' to learn more about interactive tables.';\n",
              "          element.innerHTML = '';\n",
              "          dataTable['output_type'] = 'display_data';\n",
              "          await google.colab.output.renderOutput(dataTable, element);\n",
              "          const docLink = document.createElement('div');\n",
              "          docLink.innerHTML = docLinkHtml;\n",
              "          element.appendChild(docLink);\n",
              "        }\n",
              "      </script>\n",
              "    </div>\n",
              "  </div>\n",
              "  "
            ],
            "text/plain": [
              "                                            Discription  \\\n",
              "0     KINGDOM OF WHITE Replay Full Sleeves White Shi...   \n",
              "1                   United Colors of Benetton Men Shirt   \n",
              "2     KINGDOM OF WHITE Cloudy Full Sleeves White Kur...   \n",
              "3                   United Colors of Benetton Men Shirt   \n",
              "4     Dennis Lingo Men's Solid Slim Fit Cotton Casua...   \n",
              "...                                                 ...   \n",
              "1251              Multi-color High Neck Heart Print Top   \n",
              "1252                  Women Self Design Regular Fit Top   \n",
              "1253                                     Lilac Crop Top   \n",
              "1254                            Blue Printed A-Line Top   \n",
              "1255                       Peacock Cinched Shirt Jacket   \n",
              "\n",
              "                                                    url        Vendor  \\\n",
              "0     https://www.amazon.in/sspa/click?ie=UTF8&spc=M...        Amazon   \n",
              "1     https://www.amazon.in/sspa/click?ie=UTF8&spc=M...        Amazon   \n",
              "2     https://www.amazon.in/sspa/click?ie=UTF8&spc=M...        Amazon   \n",
              "3     https://www.amazon.in/sspa/click?ie=UTF8&spc=M...        Amazon   \n",
              "4     https://www.amazon.in/Dennis-Lingo-Solid-Casua...        Amazon   \n",
              "...                                                 ...           ...   \n",
              "1251  https://www.nykaafashion.com/mixt-by-nykaa-fas...  NykaaFashion   \n",
              "1252  https://www.nykaafashion.com/only-women-self-d...  NykaaFashion   \n",
              "1253  https://www.nykaafashion.com/i-saw-it-first-li...  NykaaFashion   \n",
              "1254  https://www.nykaafashion.com/qomn-blue-printed...  NykaaFashion   \n",
              "1255  https://www.nykaafashion.com/shaye-peacock-cin...  NykaaFashion   \n",
              "\n",
              "                                    cleaned_description  \n",
              "0     kingdom white replay full sleeve white shirt r...  \n",
              "1                       united color benetton men shirt  \n",
              "2     kingdom white cloudy full sleeve white kurta w...  \n",
              "3                       united color benetton men shirt  \n",
              "4     dennis lingo men solid slim fit cotton casual ...  \n",
              "...                                                 ...  \n",
              "1251              multi color high neck heart print top  \n",
              "1252                  woman self design regular fit top  \n",
              "1253                                     lilac crop top  \n",
              "1254                              blue printed line top  \n",
              "1255                       peacock cinched shirt jacket  \n",
              "\n",
              "[1256 rows x 4 columns]"
            ]
          },
          "execution_count": 10,
          "metadata": {},
          "output_type": "execute_result"
        }
      ],
      "source": [
        "df"
      ]
    },
    {
      "cell_type": "code",
      "execution_count": 11,
      "metadata": {
        "id": "YK4rAwdI5TSW"
      },
      "outputs": [],
      "source": [
        "from sklearn.feature_extraction.text import TfidfVectorizer\n",
        "from sklearn.metrics.pairwise import cosine_similarity"
      ]
    },
    {
      "cell_type": "code",
      "execution_count": 12,
      "metadata": {
        "id": "tzgArgqZ7i0I"
      },
      "outputs": [],
      "source": [
        "# Load preprocessed data from CSV file\n",
        "df = pd.read_csv('/content/preprocessed_data.csv')\n",
        "\n",
        "# Get the preprocessed descriptions as a list\n",
        "preprocessed_descriptions = df['cleaned_description'].tolist()\n"
      ]
    },
    {
      "cell_type": "code",
      "execution_count": 13,
      "metadata": {
        "id": "2k6h4ofd7tDy"
      },
      "outputs": [],
      "source": [
        "# Initialize TF-IDF vectorizer\n",
        "vectorizer = TfidfVectorizer()\n",
        "\n",
        "# Fit and transform the preprocessed descriptions\n",
        "tfidf_matrix = vectorizer.fit_transform(preprocessed_descriptions)\n",
        "\n"
      ]
    },
    {
      "cell_type": "code",
      "execution_count": 14,
      "metadata": {
        "id": "A_1JBtVs7xvK"
      },
      "outputs": [],
      "source": [
        "# Function to compute similarity between input text and database texts\n",
        "def compute_similarity(input_text):\n",
        "    # Preprocess the input text\n",
        "    cleaned_input_text = preprocess_text(input_text)\n",
        "    \n",
        "    # Transform the input text using the fitted TF-IDF vectorizer\n",
        "    input_tfidf = vectorizer.transform([cleaned_input_text])\n",
        "    \n",
        "    # Compute cosine similarity between the input text and database texts\n",
        "    similarity_scores = cosine_similarity(input_tfidf, tfidf_matrix)\n",
        "    \n",
        "    # Get indices of top-N most similar items\n",
        "    top_indices = similarity_scores.argsort()[0][-N:][::-1]\n",
        "    \n",
        "    # Get URLs of top-N most similar items\n",
        "    top_urls = df.loc[top_indices, 'url'].tolist()\n",
        "    \n",
        "    return top_urls\n"
      ]
    },
    {
      "cell_type": "code",
      "execution_count": 15,
      "metadata": {
        "colab": {
          "base_uri": "https://localhost:8080/"
        },
        "id": "FbVX_FVo73ni",
        "outputId": "7d3638e3-e8fa-46b1-e62c-42674a4f80d5"
      },
      "outputs": [
        {
          "name": "stdout",
          "output_type": "stream",
          "text": [
            "['https://www.nykaafashion.com/cover-story-summer-peach-shirt/p/7599620', 'https://www.flipkart.com/dennis-lingo-men-striped-casual-black-shirt/p/itm84e2bcc38582a?pid=SHTFNANMQRMCPEH8&lid=LSTSHTFNANMQRMCPEH8D1XR0F&marketplace=FLIPKART&q=shirts&store=clo%2Fash%2Faxc&srno=s_2_74&otracker=search&otracker1=search&fm=organic&iid=e589643c-b331-4c05-b484-15f529f9fe07.SHTFNANMQRMCPEH8.SEARCH&ppt=None&ppn=None&ssid=tngovjzwk00000001684598847225&qH=514ca2b2d46ccf67', 'https://www.amazon.in/DHRUVI-TRENDZ-Abstract-Printed-Regular/dp/B0BZVWJ32L/ref=sxin_20_slsr_d_i_fsnewarrivals_fa_1_B0BZVWJ32L?content-id=amzn1.sym.75fb7dbe-1dae-415e-a068-997b8c3956f7%3Aamzn1.sym.75fb7dbe-1dae-415e-a068-997b8c3956f7&crid=3EKVZNS1FCSRP&cv_ct_cx=shirt&keywords=shirt&pd_rd_i=B0BZVWJ32L&pd_rd_r=ccd40d52-081a-4088-8598-28ca3f836aca&pd_rd_w=hf9Pj&pd_rd_wg=AMbk2&pf_rd_p=75fb7dbe-1dae-415e-a068-997b8c3956f7&pf_rd_r=ZHEDTJH0ACM8JS09E1J7&qid=1684559026&sbo=RZvfv%2F%2FHxDF%2BO5021pAnSA%3D%3D&sprefix=shir%2Caps%2C310&sr=1-2-5b2ee5ec-0735-4782-9f3a-9d21a55133d0', 'https://www.flipkart.com/combraided-men-checkered-casual-red-blue-shirt/p/itm47aad3179e46e?pid=SHTG6BX7ZP4SFATW&lid=LSTSHTG6BX7ZP4SFATWKNHZ7J&marketplace=FLIPKART&q=shirts&store=clo%2Fash%2Faxc&srno=s_2_64&otracker=search&otracker1=search&fm=organic&iid=e589643c-b331-4c05-b484-15f529f9fe07.SHTG6BX7ZP4SFATW.SEARCH&ppt=None&ppn=None&ssid=tngovjzwk00000001684598847225&qH=514ca2b2d46ccf67', 'https://www.flipkart.com/dennis-lingo-men-checkered-casual-blue-shirt/p/itmf5jwaaffgqtxf?pid=SHTF5JNXSSZZGYMB&lid=LSTSHTF5JNXSSZZGYMBLY277R&marketplace=FLIPKART&q=shirts&store=clo%2Fash%2Faxc&srno=s_1_22&otracker=search&otracker1=search&fm=organic&iid=9af312a9-2a3b-48d3-a265-6cb079432e97.SHTF5JNXSSZZGYMB.SEARCH&ppt=None&ppn=None&ssid=xo05m6l5tc0000001684598634269&qH=514ca2b2d46ccf67']\n"
          ]
        }
      ],
      "source": [
        "# Example usage\n",
        "input_text = \"slim summer t-shirts\"\n",
        "N = 5  # Number of top similar items to retrieve\n",
        "\n",
        "# Compute similarity and get top-N most similar item URLs\n",
        "similar_item_urls = compute_similarity(input_text)\n",
        "\n",
        "print(similar_item_urls)\n"
      ]
    },
    {
      "cell_type": "code",
      "execution_count": 16,
      "metadata": {
        "colab": {
          "base_uri": "https://localhost:8080/"
        },
        "id": "wki1F5c98Aew",
        "outputId": "f63972d7-30a1-4beb-d896-561734fc4665"
      },
      "outputs": [
        {
          "name": "stdout",
          "output_type": "stream",
          "text": [
            "https://www.nykaafashion.com/cover-story-summer-peach-shirt/p/7599620\n",
            "https://www.flipkart.com/dennis-lingo-men-striped-casual-black-shirt/p/itm84e2bcc38582a?pid=SHTFNANMQRMCPEH8&lid=LSTSHTFNANMQRMCPEH8D1XR0F&marketplace=FLIPKART&q=shirts&store=clo%2Fash%2Faxc&srno=s_2_74&otracker=search&otracker1=search&fm=organic&iid=e589643c-b331-4c05-b484-15f529f9fe07.SHTFNANMQRMCPEH8.SEARCH&ppt=None&ppn=None&ssid=tngovjzwk00000001684598847225&qH=514ca2b2d46ccf67\n",
            "https://www.amazon.in/DHRUVI-TRENDZ-Abstract-Printed-Regular/dp/B0BZVWJ32L/ref=sxin_20_slsr_d_i_fsnewarrivals_fa_1_B0BZVWJ32L?content-id=amzn1.sym.75fb7dbe-1dae-415e-a068-997b8c3956f7%3Aamzn1.sym.75fb7dbe-1dae-415e-a068-997b8c3956f7&crid=3EKVZNS1FCSRP&cv_ct_cx=shirt&keywords=shirt&pd_rd_i=B0BZVWJ32L&pd_rd_r=ccd40d52-081a-4088-8598-28ca3f836aca&pd_rd_w=hf9Pj&pd_rd_wg=AMbk2&pf_rd_p=75fb7dbe-1dae-415e-a068-997b8c3956f7&pf_rd_r=ZHEDTJH0ACM8JS09E1J7&qid=1684559026&sbo=RZvfv%2F%2FHxDF%2BO5021pAnSA%3D%3D&sprefix=shir%2Caps%2C310&sr=1-2-5b2ee5ec-0735-4782-9f3a-9d21a55133d0\n",
            "https://www.flipkart.com/combraided-men-checkered-casual-red-blue-shirt/p/itm47aad3179e46e?pid=SHTG6BX7ZP4SFATW&lid=LSTSHTG6BX7ZP4SFATWKNHZ7J&marketplace=FLIPKART&q=shirts&store=clo%2Fash%2Faxc&srno=s_2_64&otracker=search&otracker1=search&fm=organic&iid=e589643c-b331-4c05-b484-15f529f9fe07.SHTG6BX7ZP4SFATW.SEARCH&ppt=None&ppn=None&ssid=tngovjzwk00000001684598847225&qH=514ca2b2d46ccf67\n",
            "https://www.flipkart.com/dennis-lingo-men-checkered-casual-blue-shirt/p/itmf5jwaaffgqtxf?pid=SHTF5JNXSSZZGYMB&lid=LSTSHTF5JNXSSZZGYMBLY277R&marketplace=FLIPKART&q=shirts&store=clo%2Fash%2Faxc&srno=s_1_22&otracker=search&otracker1=search&fm=organic&iid=9af312a9-2a3b-48d3-a265-6cb079432e97.SHTF5JNXSSZZGYMB.SEARCH&ppt=None&ppn=None&ssid=xo05m6l5tc0000001684598634269&qH=514ca2b2d46ccf67\n"
          ]
        }
      ],
      "source": [
        "for item in similar_item_urls:\n",
        "  print(item)"
      ]
    },
    {
      "cell_type": "code",
      "execution_count": 17,
      "metadata": {
        "id": "MO7mWs388N-F"
      },
      "outputs": [],
      "source": [
        "#floral shirt\n",
        "#jeans\n",
        "#round neck tshirt\n",
        "#mini shorts"
      ]
    },
    {
      "cell_type": "code",
      "execution_count": 17,
      "metadata": {
        "id": "FDBtoJyaj0lC"
      },
      "outputs": [],
      "source": []
    }
  ],
  "metadata": {
    "colab": {
      "provenance": []
    },
    "kernelspec": {
      "display_name": "Python 3 (ipykernel)",
      "language": "python",
      "name": "python3"
    },
    "language_info": {
      "codemirror_mode": {
        "name": "ipython",
        "version": 3
      },
      "file_extension": ".py",
      "mimetype": "text/x-python",
      "name": "python",
      "nbconvert_exporter": "python",
      "pygments_lexer": "ipython3",
      "version": "3.10.6"
    }
  },
  "nbformat": 4,
  "nbformat_minor": 0
}
